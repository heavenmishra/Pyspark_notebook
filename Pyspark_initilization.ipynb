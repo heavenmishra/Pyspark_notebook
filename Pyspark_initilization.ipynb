{
  "nbformat": 4,
  "nbformat_minor": 0,
  "metadata": {
    "colab": {
      "provenance": []
    },
    "kernelspec": {
      "name": "python3",
      "display_name": "Python 3"
    },
    "language_info": {
      "name": "python"
    }
  },
  "cells": [
    {
      "cell_type": "code",
      "source": [
        "#run below command in colab\n",
        "#install java 8\n",
        "!apt-get install openjdk-8-jdk-headless -qq > /dev/null\n",
        "#download spark3.0.0\n",
        "!wget -q https://dlcdn.apache.org/spark/spark-3.5.0/spark-3.5.0-bin-hadoop3.tgz\n",
        "# unzip it\n",
        "!tar xf spark-3.5.0-bin-hadoop3.tgz\n",
        "#insatll findspark\n",
        "!pip install -q findspark"
      ],
      "metadata": {
        "id": "OZOrY92GHaCH"
      },
      "execution_count": 12,
      "outputs": []
    },
    {
      "cell_type": "code",
      "source": [
        "import os\n",
        "os.environ[\"JAVA_HOME\"] = \"/usr/lib/jvm/java-8-openjdk-amd64\"\n",
        "os.environ[\"SPARK_HOME\"] = \"/content/spark-3.5.0-bin-hadoop3\""
      ],
      "metadata": {
        "id": "THjh27i9JGPV"
      },
      "execution_count": 13,
      "outputs": []
    },
    {
      "cell_type": "code",
      "source": [
        "import findspark\n",
        "findspark.init()\n",
        "from pyspark.sql import SparkSession\n",
        "spark = SparkSession.builder.master(\"local[*]\").getOrCreate()\n",
        "\n",
        "\n",
        "#test the spark\n",
        "df = spark.createDataFrame([{\"Hello\":\"World\"} for x in range(10)])\n",
        "df.show()"
      ],
      "metadata": {
        "colab": {
          "base_uri": "https://localhost:8080/"
        },
        "id": "HqlE5G-dJnhY",
        "outputId": "5585a9c8-8a34-47d3-b337-10226379fbc1"
      },
      "execution_count": 14,
      "outputs": [
        {
          "output_type": "stream",
          "name": "stdout",
          "text": [
            "+-----+\n",
            "|Hello|\n",
            "+-----+\n",
            "|World|\n",
            "|World|\n",
            "|World|\n",
            "|World|\n",
            "|World|\n",
            "|World|\n",
            "|World|\n",
            "|World|\n",
            "|World|\n",
            "|World|\n",
            "+-----+\n",
            "\n"
          ]
        }
      ]
    },
    {
      "cell_type": "code",
      "source": [],
      "metadata": {
        "id": "TORyT2sWKhgu"
      },
      "execution_count": 14,
      "outputs": []
    }
  ]
}